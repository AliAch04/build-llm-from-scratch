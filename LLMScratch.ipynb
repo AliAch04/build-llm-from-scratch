{
  "nbformat": 4,
  "nbformat_minor": 0,
  "metadata": {
    "colab": {
      "provenance": [],
      "mount_file_id": "1yKQ8OmmRweTluexcIKZpmwlhjJSR27v1",
      "authorship_tag": "ABX9TyMblO54+gVzuSF75M6FNP++"
    },
    "kernelspec": {
      "name": "python3",
      "display_name": "Python 3"
    },
    "language_info": {
      "name": "python"
    }
  },
  "cells": [
    {
      "cell_type": "markdown",
      "source": [
        "# Short Story as text sample Into python"
      ],
      "metadata": {
        "id": "_kncVckNQoJ2"
      }
    },
    {
      "cell_type": "markdown",
      "source": [
        "**Step 1 : Create Tokens**"
      ],
      "metadata": {
        "id": "3DDRpKV5Q2QF"
      }
    },
    {
      "cell_type": "code",
      "source": [
        "with open(\"/content/sample_data/the-verdict.txt\", \"r\", encoding=\"utf-8\") as f:\n",
        "    raw_text = f.read()\n",
        "\n",
        "print('Number of characters : ', len(raw_text))\n",
        "# print first 100 characters\n",
        "print(raw_text[:99])"
      ],
      "metadata": {
        "colab": {
          "base_uri": "https://localhost:8080/"
        },
        "id": "tSKrSmDgRV94",
        "outputId": "b0991021-9e6b-4ac5-d71e-c440db11b07d"
      },
      "execution_count": 12,
      "outputs": [
        {
          "output_type": "stream",
          "name": "stdout",
          "text": [
            "Number of characters :  20479\n",
            "I HAD always thought Jack Gisburn rather a cheap genius--though a good fellow enough--so it was no \n"
          ]
        }
      ]
    },
    {
      "cell_type": "markdown",
      "source": [
        "- Tokenize the whole characters (20479) into individual words and special characters Then turn into embeddings"
      ],
      "metadata": {
        "id": "sd8v3ca7S5tO"
      }
    },
    {
      "cell_type": "markdown",
      "source": [
        "- Split text into list of tokens based on white text or special characters ..."
      ],
      "metadata": {
        "id": "ISuFpbq-T3ek"
      }
    },
    {
      "cell_type": "code",
      "source": [
        "import re # Regular expression\n",
        "\n",
        "text_test = \"Hello, world. this, is a test!\"\n",
        "result = re.split(r'([,.!]|\\s)', text_test)\n",
        "\n",
        "print(result)"
      ],
      "metadata": {
        "colab": {
          "base_uri": "https://localhost:8080/"
        },
        "id": "l31a3V0vT8J6",
        "outputId": "2173736e-009b-411f-8d19-a19c98435262"
      },
      "execution_count": 13,
      "outputs": [
        {
          "output_type": "stream",
          "name": "stdout",
          "text": [
            "['Hello', ',', '', ' ', 'world', '.', '', ' ', 'this', ',', '', ' ', 'is', ' ', 'a', ' ', 'test', '!', '']\n"
          ]
        }
      ]
    },
    {
      "cell_type": "markdown",
      "source": [
        "- Remove redundants characters safely"
      ],
      "metadata": {
        "id": "BrDji5hyWqFh"
      }
    },
    {
      "cell_type": "code",
      "source": [
        "#result = [item for item in result if item not in ['', ' ']]\n",
        "result = [item for item in result if item.strip()]\n",
        "print(result)"
      ],
      "metadata": {
        "colab": {
          "base_uri": "https://localhost:8080/"
        },
        "id": "m3xPAG8BW4L5",
        "outputId": "b50769a6-ae00-4a4d-e309-6c803ddf53d3"
      },
      "execution_count": 14,
      "outputs": [
        {
          "output_type": "stream",
          "name": "stdout",
          "text": [
            "['Hello', ',', 'world', '.', 'this', ',', 'is', 'a', 'test', '!']\n"
          ]
        }
      ]
    },
    {
      "cell_type": "markdown",
      "source": [
        "- In our context we are removing the white-spaces because our text structure doesnt need it (working on simple sample of text)"
      ],
      "metadata": {
        "id": "5cLep7J5XrZ6"
      }
    },
    {
      "cell_type": "markdown",
      "source": [
        "- Full process"
      ],
      "metadata": {
        "id": "a6cGs5t7Yp6j"
      }
    },
    {
      "cell_type": "code",
      "source": [
        "text_test = 'I HAD always! thought Jack Gisburn rather? a cheap genius--though a good fellow enough--so it was no! '\n",
        "# Tokenization sheme\n",
        "result = re.split(r'([.,:;!_?\"]|--|\\s)', text_test)\n",
        "result = [i for i in result if i.strip()]\n",
        "print(result)"
      ],
      "metadata": {
        "colab": {
          "base_uri": "https://localhost:8080/"
        },
        "id": "hoXBXOuzYtoZ",
        "outputId": "121777fc-f1a5-471f-f601-730941ae6115"
      },
      "execution_count": 15,
      "outputs": [
        {
          "output_type": "stream",
          "name": "stdout",
          "text": [
            "['I', 'HAD', 'always', '!', 'thought', 'Jack', 'Gisburn', 'rather', '?', 'a', 'cheap', 'genius', '--', 'though', 'a', 'good', 'fellow', 'enough', '--', 'so', 'it', 'was', 'no', '!']\n"
          ]
        }
      ]
    },
    {
      "cell_type": "markdown",
      "source": [
        "- Apply the tokenizer on the Story"
      ],
      "metadata": {
        "id": "kOJyYJj0aT2c"
      }
    },
    {
      "cell_type": "code",
      "source": [
        "preprocessed = re.split(r'([,.:;_!?\"()\\']|--|\\s)', raw_text)\n",
        "preprocessed = [item for item in preprocessed if item.strip()]\n",
        "print(preprocessed[:20])"
      ],
      "metadata": {
        "colab": {
          "base_uri": "https://localhost:8080/"
        },
        "id": "JpjdEC9EaTi5",
        "outputId": "b9d09b89-eda0-4f7f-e78e-af1004aae9bd"
      },
      "execution_count": 16,
      "outputs": [
        {
          "output_type": "stream",
          "name": "stdout",
          "text": [
            "['I', 'HAD', 'always', 'thought', 'Jack', 'Gisburn', 'rather', 'a', 'cheap', 'genius', '--', 'though', 'a', 'good', 'fellow', 'enough', '--', 'so', 'it', 'was']\n"
          ]
        }
      ]
    },
    {
      "cell_type": "code",
      "source": [
        "print('Total number of tokens : ', len(preprocessed))"
      ],
      "metadata": {
        "colab": {
          "base_uri": "https://localhost:8080/"
        },
        "id": "I4ue14ktbMd8",
        "outputId": "d0ae0e27-664c-4e09-ee6f-e9ea819b7973"
      },
      "execution_count": 17,
      "outputs": [
        {
          "output_type": "stream",
          "name": "stdout",
          "text": [
            "Total number of tokens :  4690\n"
          ]
        }
      ]
    },
    {
      "cell_type": "markdown",
      "source": [
        "**Step 2 : Create Tokens IDs**"
      ],
      "metadata": {
        "id": "RlbMVcB4cNtr"
      }
    },
    {
      "cell_type": "markdown",
      "source": [
        "- Create list of tokens and sort them alphabetically to determine the Vocabilary size"
      ],
      "metadata": {
        "id": "ISNvfRHRcXJ4"
      }
    },
    {
      "cell_type": "code",
      "source": [
        "all_words = sorted(set(preprocessed))\n",
        "print(all_words[:15])\n",
        "print(len(all_words))"
      ],
      "metadata": {
        "colab": {
          "base_uri": "https://localhost:8080/"
        },
        "id": "5H0pGtxfcw0G",
        "outputId": "9e7f9fe3-99ed-4e04-e750-4cb9c80cb01e"
      },
      "execution_count": 18,
      "outputs": [
        {
          "output_type": "stream",
          "name": "stdout",
          "text": [
            "['!', '\"', \"'\", '(', ')', ',', '--', '.', ':', ';', '?', 'A', 'Ah', 'Among', 'And']\n",
            "1130\n"
          ]
        }
      ]
    },
    {
      "cell_type": "markdown",
      "source": [
        "- Create the Vocabulary itself"
      ],
      "metadata": {
        "id": "wwPXO8AUcwT6"
      }
    },
    {
      "cell_type": "code",
      "source": [
        "vocab = {token : i for i, token in enumerate(all_words)}\n"
      ],
      "metadata": {
        "id": "uH5sOlmddWHf"
      },
      "execution_count": 19,
      "outputs": []
    },
    {
      "cell_type": "code",
      "source": [
        "for i, v in enumerate(vocab.items()):\n",
        "  if i > 25:\n",
        "    break\n",
        "  print(v)"
      ],
      "metadata": {
        "colab": {
          "base_uri": "https://localhost:8080/"
        },
        "id": "_ZdJ5ppO-zPp",
        "outputId": "bb9d01cc-30ce-466b-ac50-cefb972291fa"
      },
      "execution_count": 20,
      "outputs": [
        {
          "output_type": "stream",
          "name": "stdout",
          "text": [
            "('!', 0)\n",
            "('\"', 1)\n",
            "(\"'\", 2)\n",
            "('(', 3)\n",
            "(')', 4)\n",
            "(',', 5)\n",
            "('--', 6)\n",
            "('.', 7)\n",
            "(':', 8)\n",
            "(';', 9)\n",
            "('?', 10)\n",
            "('A', 11)\n",
            "('Ah', 12)\n",
            "('Among', 13)\n",
            "('And', 14)\n",
            "('Are', 15)\n",
            "('Arrt', 16)\n",
            "('As', 17)\n",
            "('At', 18)\n",
            "('Be', 19)\n",
            "('Begin', 20)\n",
            "('Burlington', 21)\n",
            "('But', 22)\n",
            "('By', 23)\n",
            "('Carlo', 24)\n",
            "('Chicago', 25)\n"
          ]
        }
      ]
    },
    {
      "cell_type": "markdown",
      "source": [
        "- Emplement Tokenizer class"
      ],
      "metadata": {
        "id": "rQRxRcGTBpBQ"
      }
    },
    {
      "cell_type": "code",
      "source": [
        "class SimpleTokenizer:\n",
        "  def __init__(self):\n",
        "    self.str_to_int = vocab\n",
        "    self.int_to_str = {id:t for t, id in vocab.items()}\n",
        "\n",
        "  def encoder(self, txt):\n",
        "    processed = re.split(r'([.,;?()!_:\\'\"]|--|\\s)', txt)\n",
        "\n",
        "    processed = [item.strip() for item in processed if item.strip()]\n",
        "\n",
        "    ids = [self.str_to_int[t] for t in processed]\n",
        "    return ids\n",
        "\n",
        "  def decoder(self, ids):\n",
        "    txt = \" \".join([self.int_to_str[id] for id in ids])\n",
        "    # Prevent the whitespace before the punctuation marks\n",
        "    txt = re.sub(r'\\s+([,.\"\\'?!()])', r'\\1', txt)\n",
        "    txt = re.sub(r'([\"\\'])\\s+(\\w+)', r'\\1\\2', txt)\n",
        "    return txt\n",
        "\n",
        "token = SimpleTokenizer()\n",
        "print(token.encoder('Ah! At \"Among\" !'))\n",
        "print(token.decoder(token.encoder('Ah! \\'At\\':\"Among \" !')))\n"
      ],
      "metadata": {
        "colab": {
          "base_uri": "https://localhost:8080/"
        },
        "id": "hNhwgzmHZnoW",
        "outputId": "6bee8cd8-09e3-443b-b23e-fbd6f9f6615d"
      },
      "execution_count": 21,
      "outputs": [
        {
          "output_type": "stream",
          "name": "stdout",
          "text": [
            "[12, 0, 18, 1, 13, 1, 0]\n",
            "Ah!'At' :\"Among\"!\n"
          ]
        }
      ]
    },
    {
      "cell_type": "markdown",
      "source": [
        "- To address words not in the vocabulary, the vocabulary needs to be extended."
      ],
      "metadata": {
        "id": "vgq8nmW2kbBp"
      }
    },
    {
      "cell_type": "markdown",
      "source": [
        "**Adding Special Context Tokens**"
      ],
      "metadata": {
        "id": "whP6AbgxlfkM"
      }
    },
    {
      "cell_type": "markdown",
      "source": [
        "- Modify the Tokenizer to handle unkonwn words (<|unk|> <|endoftext|>)"
      ],
      "metadata": {
        "id": "-cUA1q1XLC1s"
      }
    },
    {
      "cell_type": "code",
      "source": [
        "all_tokens = sorted(list(set(preprocessed)))\n",
        "all_tokens.extend(['<|unk|>', '<|endoftext|>'])\n",
        "\n",
        "vocab = {t:i for i, t in enumerate(all_tokens)}\n",
        "print(len(vocab.items()))"
      ],
      "metadata": {
        "colab": {
          "base_uri": "https://localhost:8080/"
        },
        "id": "mfif9CyiOBfp",
        "outputId": "e0daad9d-ed76-4cfd-a253-18644c2234e2"
      },
      "execution_count": 26,
      "outputs": [
        {
          "output_type": "stream",
          "name": "stdout",
          "text": [
            "1132\n"
          ]
        }
      ]
    },
    {
      "cell_type": "code",
      "source": [
        "for item in list(vocab.items())[-5:]:\n",
        "  print(item)"
      ],
      "metadata": {
        "colab": {
          "base_uri": "https://localhost:8080/"
        },
        "id": "dRQs7s3gOBdn",
        "outputId": "2c0d3ed3-b1c4-456a-e1d9-a39f95654fc4"
      },
      "execution_count": 27,
      "outputs": [
        {
          "output_type": "stream",
          "name": "stdout",
          "text": [
            "('younger', 1127)\n",
            "('your', 1128)\n",
            "('yourself', 1129)\n",
            "('<|unk|>', 1130)\n",
            "('<|endoftext|>', 1131)\n"
          ]
        }
      ]
    },
    {
      "cell_type": "markdown",
      "source": [
        "- Implementing SimpleTokenizerV2"
      ],
      "metadata": {
        "id": "Db8y53hBQgct"
      }
    },
    {
      "cell_type": "code",
      "source": [
        "class SimpleTokenizerV2:\n",
        "  def __init__(self, vocab):\n",
        "    self.str_to_int = vocab\n",
        "    self.int_to_str = {i:t for t,i in vocab.items()}\n",
        "\n",
        "  def encoder(self, txt):\n",
        "    # Split Text into tokens\n",
        "    preprocessed = re.split(r'([.,;?()!_:\\'\"]|--|\\s)', txt)\n",
        "    # Clear the Tokens from whitespaces\n",
        "    preprocessed = [item.strip() for item in preprocessed if item.strip()]\n",
        "    # Identifiy the unknown words\n",
        "    preprocessed = [\n",
        "        item if item in self.str_to_int else '<|unk|>'\n",
        "        for item in preprocessed\n",
        "    ]\n",
        "    # Map the tokens with thier ids\n",
        "    ids = [self.str_to_int[s] for s in preprocessed]\n",
        "\n",
        "    return ids\n",
        "\n",
        "  def decoder(self, ids):\n",
        "    txt = \" \".join([self.int_to_str[i] for i in ids])\n",
        "    txt = re.sub(r'\\s+([,.;:!?()\"\\'])', r'\\1', txt)\n",
        "\n",
        "    return txt"
      ],
      "metadata": {
        "id": "R2-_ctXoQk1f"
      },
      "execution_count": 43,
      "outputs": []
    },
    {
      "cell_type": "code",
      "source": [
        "tokenizer = SimpleTokenizerV2(vocab)\n",
        "text1 = 'Salam! I love tea so much. What about you?'\n",
        "text2 = 'Yes! i love tea and coffee.'\n",
        "text = \" <|endoftext|> \".join((text1, text2))\n",
        "\n",
        "print(text)"
      ],
      "metadata": {
        "colab": {
          "base_uri": "https://localhost:8080/"
        },
        "id": "dBxgq9zfY32c",
        "outputId": "e487155c-3c57-4de4-f743-43cb8e4949b5"
      },
      "execution_count": 44,
      "outputs": [
        {
          "output_type": "stream",
          "name": "stdout",
          "text": [
            "Salam! I love tea so much. What about you? <|endoftext|> Yes! i love tea and coffee.\n"
          ]
        }
      ]
    },
    {
      "cell_type": "code",
      "source": [
        "print(tokenizer.encoder(text))\n",
        "print(tokenizer.decoder(tokenizer.encoder(text)))"
      ],
      "metadata": {
        "colab": {
          "base_uri": "https://localhost:8080/"
        },
        "id": "V7RDUq6NaThQ",
        "outputId": "f4f86a2f-93c5-4f24-e385-8c7830d87938"
      },
      "execution_count": 45,
      "outputs": [
        {
          "output_type": "stream",
          "name": "stdout",
          "text": [
            "[1130, 0, 53, 1130, 975, 908, 691, 7, 109, 118, 1126, 10, 1131, 112, 0, 1130, 1130, 975, 157, 1130, 7]\n",
            "<|unk|>! I <|unk|> tea so much. What about you? <|endoftext|> Yes! <|unk|> <|unk|> tea and <|unk|>.\n"
          ]
        }
      ]
    },
    {
      "cell_type": "markdown",
      "source": [
        "- More Special tokens : [BOS] [EOS] [PAD]"
      ],
      "metadata": {
        "id": "8jbF_pBgdI4Q"
      }
    },
    {
      "cell_type": "markdown",
      "source": [
        "- For GPT models they doesnt use <|unk|> tokens. Instead they uses a tokenizer called **Byte Pair Encoding** which beaks words into subword units."
      ],
      "metadata": {
        "id": "sk08vKOBaQDj"
      }
    },
    {
      "cell_type": "markdown",
      "source": [
        "**Byte Pair Encoding**"
      ],
      "metadata": {
        "id": "GoH-SPckerCZ"
      }
    },
    {
      "cell_type": "markdown",
      "source": [
        "- Use pyhton open-source library '**tiktoken**' 'https://github.com/openai/tiktoken'"
      ],
      "metadata": {
        "id": "YovHjfoKgVtf"
      }
    },
    {
      "cell_type": "code",
      "source": [
        "#!pip3 install tiktoken"
      ],
      "metadata": {
        "id": "QGVgfQXEhcp_"
      },
      "execution_count": 4,
      "outputs": []
    },
    {
      "cell_type": "code",
      "source": [
        "# Import the tiktoken package and check its version\n",
        "import importlib\n",
        "import tiktoken\n",
        "\n",
        "print('Tiktoken version : ', importlib.metadata.version(\"tiktoken\"))"
      ],
      "metadata": {
        "colab": {
          "base_uri": "https://localhost:8080/"
        },
        "id": "xzBNqXi_iYTA",
        "outputId": "3bf30182-dd6e-4e9d-dd67-a628db6085c2"
      },
      "execution_count": 3,
      "outputs": [
        {
          "output_type": "stream",
          "name": "stdout",
          "text": [
            "Tiktoken version :  0.12.0\n"
          ]
        }
      ]
    },
    {
      "cell_type": "code",
      "source": [
        "# Instantiate BPE tokenizer"
      ],
      "metadata": {
        "id": "kUaROrCDjDDX"
      },
      "execution_count": null,
      "outputs": []
    },
    {
      "cell_type": "code",
      "source": [
        "tokenizer = tiktoken.get_encoding(\"gpt2\")"
      ],
      "metadata": {
        "id": "GnGPGTMwjKDl"
      },
      "execution_count": 7,
      "outputs": []
    },
    {
      "cell_type": "code",
      "source": [
        "text = (\"Hello! do you like tea? <|endoftext|> The sun rose quickly this morning.\"\n",
        "\"what do you thinkofme me?\")\n",
        "\n",
        "ids = tokenizer.encode(text, allowed_special={\"<|endoftext|>\"})\n",
        "print(ids)\n",
        "print(tokenizer.decode([1326, 502]))  # Should show \"me\""
      ],
      "metadata": {
        "colab": {
          "base_uri": "https://localhost:8080/"
        },
        "id": "A9b5DOhBjxq8",
        "outputId": "5d79a4f8-13c9-49a9-90c7-36ddc3e0c8a6"
      },
      "execution_count": 13,
      "outputs": [
        {
          "output_type": "stream",
          "name": "stdout",
          "text": [
            "[15496, 0, 466, 345, 588, 8887, 30, 220, 50256, 383, 4252, 8278, 2952, 428, 3329, 13, 10919, 466, 345, 892, 1659, 1326, 502, 30]\n",
            "me me\n"
          ]
        }
      ]
    },
    {
      "cell_type": "code",
      "source": [
        "text = tokenizer.decode(ids)\n",
        "\n",
        "print(text)"
      ],
      "metadata": {
        "colab": {
          "base_uri": "https://localhost:8080/"
        },
        "id": "6TbaSFa2oXzq",
        "outputId": "1d34abc7-abed-498f-d5ee-251689baa3df"
      },
      "execution_count": 14,
      "outputs": [
        {
          "output_type": "stream",
          "name": "stdout",
          "text": [
            "Hello! do you like tea? <|endoftext|> The sun rose quickly this morning.what do you thinkofme me?\n"
          ]
        }
      ]
    }
  ]
}