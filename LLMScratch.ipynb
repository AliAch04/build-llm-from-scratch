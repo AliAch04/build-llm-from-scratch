{
  "nbformat": 4,
  "nbformat_minor": 0,
  "metadata": {
    "colab": {
      "provenance": [],
      "mount_file_id": "1yKQ8OmmRweTluexcIKZpmwlhjJSR27v1",
      "authorship_tag": "ABX9TyMgJnUmF7fA3F3VOcvMekuQ",
      "include_colab_link": true
    },
    "kernelspec": {
      "name": "python3",
      "display_name": "Python 3"
    },
    "language_info": {
      "name": "python"
    }
  },
  "cells": [
    {
      "cell_type": "markdown",
      "metadata": {
        "id": "view-in-github",
        "colab_type": "text"
      },
      "source": [
        "<a href=\"https://colab.research.google.com/github/AliAch04/build-llm-from-scratch/blob/main/LLMScratch.ipynb\" target=\"_parent\"><img src=\"https://colab.research.google.com/assets/colab-badge.svg\" alt=\"Open In Colab\"/></a>"
      ]
    },
    {
      "cell_type": "markdown",
      "source": [
        "# Short Story as text sample Into python"
      ],
      "metadata": {
        "id": "_kncVckNQoJ2"
      }
    },
    {
      "cell_type": "markdown",
      "source": [
        "**Step 1 : Create Tokens**"
      ],
      "metadata": {
        "id": "3DDRpKV5Q2QF"
      }
    },
    {
      "cell_type": "code",
      "source": [
        "with open(\"/content/drive/MyDrive/llm/the-verdict.txt\", \"r\", encoding=\"utf-8\") as f:\n",
        "    raw_text = f.read()\n",
        "\n",
        "print('Number of characters : ', len(raw_text))\n",
        "# print first 100 characters\n",
        "print(raw_text[:99])"
      ],
      "metadata": {
        "colab": {
          "base_uri": "https://localhost:8080/"
        },
        "id": "tSKrSmDgRV94",
        "outputId": "a78feb35-f7e4-4eaf-a011-4bbec04f274c"
      },
      "execution_count": 7,
      "outputs": [
        {
          "output_type": "stream",
          "name": "stdout",
          "text": [
            "Number of characters :  20479\n",
            "I HAD always thought Jack Gisburn rather a cheap genius--though a good fellow enough--so it was no \n"
          ]
        }
      ]
    },
    {
      "cell_type": "markdown",
      "source": [
        "- Tokenize the whole characters (20479) into individual words and special characters Then turn into embeddings"
      ],
      "metadata": {
        "id": "sd8v3ca7S5tO"
      }
    },
    {
      "cell_type": "markdown",
      "source": [
        "- Split text into list of tokens based on white text or special characters ..."
      ],
      "metadata": {
        "id": "ISuFpbq-T3ek"
      }
    },
    {
      "cell_type": "code",
      "source": [
        "import re # Regular expression\n",
        "\n",
        "text_test = \"Hello, world. this, is a test!\"\n",
        "result = re.split(r'([,.!]|\\s)', text_test)\n",
        "\n",
        "print(result)"
      ],
      "metadata": {
        "colab": {
          "base_uri": "https://localhost:8080/"
        },
        "id": "l31a3V0vT8J6",
        "outputId": "58a00415-8bdd-4623-b63d-7f70f38b99cd"
      },
      "execution_count": 8,
      "outputs": [
        {
          "output_type": "stream",
          "name": "stdout",
          "text": [
            "['Hello', ',', '', ' ', 'world', '.', '', ' ', 'this', ',', '', ' ', 'is', ' ', 'a', ' ', 'test', '!', '']\n"
          ]
        }
      ]
    },
    {
      "cell_type": "markdown",
      "source": [
        "- Remove redundants characters safely"
      ],
      "metadata": {
        "id": "BrDji5hyWqFh"
      }
    },
    {
      "cell_type": "code",
      "source": [
        "#result = [item for item in result if item not in ['', ' ']]\n",
        "result = [item for item in result if item.strip()]\n",
        "print(result)"
      ],
      "metadata": {
        "colab": {
          "base_uri": "https://localhost:8080/"
        },
        "id": "m3xPAG8BW4L5",
        "outputId": "8df60b36-85a0-4996-c408-2e04c7248077"
      },
      "execution_count": 9,
      "outputs": [
        {
          "output_type": "stream",
          "name": "stdout",
          "text": [
            "['Hello', ',', 'world', '.', 'this', ',', 'is', 'a', 'test', '!']\n"
          ]
        }
      ]
    },
    {
      "cell_type": "markdown",
      "source": [
        "- In our context we are removing the white-spaces because our text structure doesnt need it (working on simple sample of text)"
      ],
      "metadata": {
        "id": "5cLep7J5XrZ6"
      }
    },
    {
      "cell_type": "markdown",
      "source": [
        "- Full process"
      ],
      "metadata": {
        "id": "a6cGs5t7Yp6j"
      }
    },
    {
      "cell_type": "code",
      "source": [
        "text_test = 'I HAD always! thought Jack Gisburn rather? a cheap genius--though a good fellow enough--so it was no! '\n",
        "# Tokenization sheme\n",
        "result = re.split(r'([.,:;!_?\"]|--|\\s)', text_test)\n",
        "result = [i for i in result if i.strip()]\n",
        "print(result)"
      ],
      "metadata": {
        "colab": {
          "base_uri": "https://localhost:8080/"
        },
        "id": "hoXBXOuzYtoZ",
        "outputId": "152538a5-3cd8-48ae-d544-bce8ded0f47d"
      },
      "execution_count": 10,
      "outputs": [
        {
          "output_type": "stream",
          "name": "stdout",
          "text": [
            "['I', 'HAD', 'always', '!', 'thought', 'Jack', 'Gisburn', 'rather', '?', 'a', 'cheap', 'genius', '--', 'though', 'a', 'good', 'fellow', 'enough', '--', 'so', 'it', 'was', 'no', '!']\n"
          ]
        }
      ]
    },
    {
      "cell_type": "markdown",
      "source": [
        "- Apply the tokenizer on the Story"
      ],
      "metadata": {
        "id": "kOJyYJj0aT2c"
      }
    },
    {
      "cell_type": "code",
      "source": [
        "preprocessed = re.split(r'([,.:;_!?\"()\\']|--|\\s)', raw_text)\n",
        "preprocessed = [item for item in preprocessed if item.strip()]\n",
        "print(preprocessed[:20])"
      ],
      "metadata": {
        "colab": {
          "base_uri": "https://localhost:8080/"
        },
        "id": "JpjdEC9EaTi5",
        "outputId": "3256d1c8-42af-4871-86d3-b825aafcec43"
      },
      "execution_count": 11,
      "outputs": [
        {
          "output_type": "stream",
          "name": "stdout",
          "text": [
            "['I', 'HAD', 'always', 'thought', 'Jack', 'Gisburn', 'rather', 'a', 'cheap', 'genius', '--', 'though', 'a', 'good', 'fellow', 'enough', '--', 'so', 'it', 'was']\n"
          ]
        }
      ]
    },
    {
      "cell_type": "code",
      "source": [
        "print('Total number of tokens : ', len(preprocessed))"
      ],
      "metadata": {
        "colab": {
          "base_uri": "https://localhost:8080/"
        },
        "id": "I4ue14ktbMd8",
        "outputId": "0f342721-b036-4d99-a2a1-1436f09198ac"
      },
      "execution_count": 12,
      "outputs": [
        {
          "output_type": "stream",
          "name": "stdout",
          "text": [
            "Total number of tokens :  4690\n"
          ]
        }
      ]
    },
    {
      "cell_type": "markdown",
      "source": [
        "**Step 2 : Create Tokens IDs**"
      ],
      "metadata": {
        "id": "RlbMVcB4cNtr"
      }
    },
    {
      "cell_type": "markdown",
      "source": [
        "- Create list of tokens and sort them alphabetically to determine the Vocabilary size"
      ],
      "metadata": {
        "id": "ISNvfRHRcXJ4"
      }
    },
    {
      "cell_type": "code",
      "source": [
        "all_words = sorted(set(preprocessed))\n",
        "print(all_words[:15])\n",
        "print(len(all_words))"
      ],
      "metadata": {
        "colab": {
          "base_uri": "https://localhost:8080/"
        },
        "id": "5H0pGtxfcw0G",
        "outputId": "fb4c3314-cba3-4321-d2bf-e31b35b297f6"
      },
      "execution_count": 13,
      "outputs": [
        {
          "output_type": "stream",
          "name": "stdout",
          "text": [
            "['!', '\"', \"'\", '(', ')', ',', '--', '.', ':', ';', '?', 'A', 'Ah', 'Among', 'And']\n",
            "1130\n"
          ]
        }
      ]
    },
    {
      "cell_type": "markdown",
      "source": [
        "- Create the Vocabulary itself"
      ],
      "metadata": {
        "id": "wwPXO8AUcwT6"
      }
    },
    {
      "cell_type": "code",
      "source": [
        "vocab = {token : i for i, token in enumerate(all_words)}\n"
      ],
      "metadata": {
        "id": "uH5sOlmddWHf"
      },
      "execution_count": 14,
      "outputs": []
    },
    {
      "cell_type": "code",
      "source": [
        "for i, v in enumerate(vocab.items()):\n",
        "  if i > 25:\n",
        "    break\n",
        "  print(v)"
      ],
      "metadata": {
        "colab": {
          "base_uri": "https://localhost:8080/"
        },
        "id": "_ZdJ5ppO-zPp",
        "outputId": "f64b260b-d685-4546-a87e-4745edd9c174"
      },
      "execution_count": 15,
      "outputs": [
        {
          "output_type": "stream",
          "name": "stdout",
          "text": [
            "('!', 0)\n",
            "('\"', 1)\n",
            "(\"'\", 2)\n",
            "('(', 3)\n",
            "(')', 4)\n",
            "(',', 5)\n",
            "('--', 6)\n",
            "('.', 7)\n",
            "(':', 8)\n",
            "(';', 9)\n",
            "('?', 10)\n",
            "('A', 11)\n",
            "('Ah', 12)\n",
            "('Among', 13)\n",
            "('And', 14)\n",
            "('Are', 15)\n",
            "('Arrt', 16)\n",
            "('As', 17)\n",
            "('At', 18)\n",
            "('Be', 19)\n",
            "('Begin', 20)\n",
            "('Burlington', 21)\n",
            "('But', 22)\n",
            "('By', 23)\n",
            "('Carlo', 24)\n",
            "('Chicago', 25)\n"
          ]
        }
      ]
    },
    {
      "cell_type": "markdown",
      "source": [
        "- Emplement Tokenizer class"
      ],
      "metadata": {
        "id": "rQRxRcGTBpBQ"
      }
    },
    {
      "cell_type": "code",
      "source": [
        "class SimpleTokenizer:\n",
        "  def __init__(self):\n",
        "    self.str_to_int = vocab\n",
        "    self.int_to_str = {id:t for t, id in vocab.items()}\n",
        "\n",
        "  def encoder(self, txt):\n",
        "    processed = re.split(r'([.,;?()!_:\\'\"]|--|\\s)', txt)\n",
        "\n",
        "    processed = [item.strip() for item in processed if item.strip()]\n",
        "\n",
        "    ids = [self.str_to_int[t] for t in processed]\n",
        "    return ids\n",
        "\n",
        "  def decoder(self, ids):\n",
        "    txt = \" \".join([self.int_to_str[id] for id in ids])\n",
        "    # Prevent the whitespace before the punctuation marks\n",
        "    txt = re.sub(r'\\s+([,.\"\\'?!()])', r'\\1', txt)\n",
        "    return txt\n",
        "\n",
        "token = SimpleTokenizer()\n",
        "print(token.encoder('Ah At Among !'))\n",
        "print(token.decoder(token.encoder('Ah At Among !')))\n"
      ],
      "metadata": {
        "colab": {
          "base_uri": "https://localhost:8080/"
        },
        "id": "hNhwgzmHZnoW",
        "outputId": "589b81a6-e594-44f2-e519-aa42511263d6"
      },
      "execution_count": 30,
      "outputs": [
        {
          "output_type": "stream",
          "name": "stdout",
          "text": [
            "[12, 18, 13, 0]\n",
            "Ah At Among!\n"
          ]
        }
      ]
    }
  ]
}