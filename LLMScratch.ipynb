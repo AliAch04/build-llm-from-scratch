{
  "nbformat": 4,
  "nbformat_minor": 0,
  "metadata": {
    "colab": {
      "provenance": [],
      "mount_file_id": "1yKQ8OmmRweTluexcIKZpmwlhjJSR27v1",
      "authorship_tag": "ABX9TyO2hmV2xSavTwdfkbABJyZz",
      "include_colab_link": true
    },
    "kernelspec": {
      "name": "python3",
      "display_name": "Python 3"
    },
    "language_info": {
      "name": "python"
    }
  },
  "cells": [
    {
      "cell_type": "markdown",
      "metadata": {
        "id": "view-in-github",
        "colab_type": "text"
      },
      "source": [
        "<a href=\"https://colab.research.google.com/github/AliAch04/build-llm-from-scratch/blob/main/LLMScratch.ipynb\" target=\"_parent\"><img src=\"https://colab.research.google.com/assets/colab-badge.svg\" alt=\"Open In Colab\"/></a>"
      ]
    },
    {
      "cell_type": "markdown",
      "source": [
        "# Short Story as text sample Into python"
      ],
      "metadata": {
        "id": "_kncVckNQoJ2"
      }
    },
    {
      "cell_type": "markdown",
      "source": [
        "**Step 1 : Create Tokens**"
      ],
      "metadata": {
        "id": "3DDRpKV5Q2QF"
      }
    },
    {
      "cell_type": "code",
      "source": [
        "import os\n",
        "path1 = \"/content/sample_data/the-verdict.txt\"\n",
        "path2 = \"/content/drive/MyDrive/llm/the-verdict.txt\"\n",
        "\n",
        "# Check if the first path exists\n",
        "if os.path.exists(path1):\n",
        "    file_path = path1\n",
        "    print(f\"Using primary path: {file_path}\")\n",
        "else:\n",
        "    file_path = path2\n",
        "    print(f\"Primary path not found. Using secondary path: {file_path}\")\n",
        "\n",
        "try:\n",
        "    with open(file_path, \"r\", encoding=\"utf-8\") as f:\n",
        "        raw_text = f.read()\n",
        "\n",
        "except FileNotFoundError:\n",
        "    print(f\"Error: The file at {file_path} was not found.\")\n",
        "except Exception as e:\n",
        "    print(f\"An error occurred while reading the file: {e}\")\n",
        "\n",
        "print('Number of characters : ', len(raw_text))\n",
        "# print first 100 characters\n",
        "print(raw_text[:99])"
      ],
      "metadata": {
        "colab": {
          "base_uri": "https://localhost:8080/"
        },
        "id": "tSKrSmDgRV94",
        "outputId": "3c775625-4527-4228-a84b-150c64a9a816"
      },
      "execution_count": 1,
      "outputs": [
        {
          "output_type": "stream",
          "name": "stdout",
          "text": [
            "Primary path not found. Using secondary path: /content/drive/MyDrive/llm/the-verdict.txt\n",
            "Number of characters :  20479\n",
            "I HAD always thought Jack Gisburn rather a cheap genius--though a good fellow enough--so it was no \n"
          ]
        }
      ]
    },
    {
      "cell_type": "markdown",
      "source": [
        "- Tokenize the whole characters (20479) into individual words and special characters Then turn into embeddings"
      ],
      "metadata": {
        "id": "sd8v3ca7S5tO"
      }
    },
    {
      "cell_type": "markdown",
      "source": [
        "- Split text into list of tokens based on white text or special characters ..."
      ],
      "metadata": {
        "id": "ISuFpbq-T3ek"
      }
    },
    {
      "cell_type": "code",
      "source": [
        "import re # Regular expression\n",
        "\n",
        "text_test = \"Hello, world. this, is a test!\"\n",
        "result = re.split(r'([,.!]|\\s)', text_test)\n",
        "\n",
        "print(result)"
      ],
      "metadata": {
        "colab": {
          "base_uri": "https://localhost:8080/"
        },
        "id": "l31a3V0vT8J6",
        "outputId": "6aa41179-22d0-4f7a-ac1f-590751207c2f"
      },
      "execution_count": 2,
      "outputs": [
        {
          "output_type": "stream",
          "name": "stdout",
          "text": [
            "['Hello', ',', '', ' ', 'world', '.', '', ' ', 'this', ',', '', ' ', 'is', ' ', 'a', ' ', 'test', '!', '']\n"
          ]
        }
      ]
    },
    {
      "cell_type": "markdown",
      "source": [
        "- Remove redundants characters safely"
      ],
      "metadata": {
        "id": "BrDji5hyWqFh"
      }
    },
    {
      "cell_type": "code",
      "source": [
        "#result = [item for item in result if item not in ['', ' ']]\n",
        "result = [item for item in result if item.strip()]\n",
        "print(result)"
      ],
      "metadata": {
        "colab": {
          "base_uri": "https://localhost:8080/"
        },
        "id": "m3xPAG8BW4L5",
        "outputId": "0dd1fd22-3325-43cb-9322-c3e135365382"
      },
      "execution_count": 3,
      "outputs": [
        {
          "output_type": "stream",
          "name": "stdout",
          "text": [
            "['Hello', ',', 'world', '.', 'this', ',', 'is', 'a', 'test', '!']\n"
          ]
        }
      ]
    },
    {
      "cell_type": "markdown",
      "source": [
        "- In our context we are removing the white-spaces because our text structure doesnt need it (working on simple sample of text)"
      ],
      "metadata": {
        "id": "5cLep7J5XrZ6"
      }
    },
    {
      "cell_type": "markdown",
      "source": [
        "- Full process"
      ],
      "metadata": {
        "id": "a6cGs5t7Yp6j"
      }
    },
    {
      "cell_type": "code",
      "source": [
        "text_test = 'I HAD always! thought Jack Gisburn rather? a cheap genius--though a good fellow enough--so it was no! '\n",
        "# Tokenization sheme\n",
        "result = re.split(r'([.,:;!_?\"]|--|\\s)', text_test)\n",
        "result = [i for i in result if i.strip()]\n",
        "print(result)"
      ],
      "metadata": {
        "colab": {
          "base_uri": "https://localhost:8080/"
        },
        "id": "hoXBXOuzYtoZ",
        "outputId": "cd109ca9-f6bc-420b-8c7f-06f244505de6"
      },
      "execution_count": 4,
      "outputs": [
        {
          "output_type": "stream",
          "name": "stdout",
          "text": [
            "['I', 'HAD', 'always', '!', 'thought', 'Jack', 'Gisburn', 'rather', '?', 'a', 'cheap', 'genius', '--', 'though', 'a', 'good', 'fellow', 'enough', '--', 'so', 'it', 'was', 'no', '!']\n"
          ]
        }
      ]
    },
    {
      "cell_type": "markdown",
      "source": [
        "- Apply the tokenizer on the Story"
      ],
      "metadata": {
        "id": "kOJyYJj0aT2c"
      }
    },
    {
      "cell_type": "code",
      "source": [
        "preprocessed = re.split(r'([,.:;_!?\"()\\']|--|\\s)', raw_text)\n",
        "preprocessed = [item for item in preprocessed if item.strip()]\n",
        "print(preprocessed[:20])"
      ],
      "metadata": {
        "colab": {
          "base_uri": "https://localhost:8080/"
        },
        "id": "JpjdEC9EaTi5",
        "outputId": "4663d7ec-deb1-4c98-e679-e8383874c4df"
      },
      "execution_count": 5,
      "outputs": [
        {
          "output_type": "stream",
          "name": "stdout",
          "text": [
            "['I', 'HAD', 'always', 'thought', 'Jack', 'Gisburn', 'rather', 'a', 'cheap', 'genius', '--', 'though', 'a', 'good', 'fellow', 'enough', '--', 'so', 'it', 'was']\n"
          ]
        }
      ]
    },
    {
      "cell_type": "code",
      "source": [
        "print('Total number of tokens : ', len(preprocessed))"
      ],
      "metadata": {
        "colab": {
          "base_uri": "https://localhost:8080/"
        },
        "id": "I4ue14ktbMd8",
        "outputId": "e57e08b7-a46c-439e-bdea-37a7eb04b5a5"
      },
      "execution_count": 6,
      "outputs": [
        {
          "output_type": "stream",
          "name": "stdout",
          "text": [
            "Total number of tokens :  4690\n"
          ]
        }
      ]
    },
    {
      "cell_type": "markdown",
      "source": [
        "**Step 2 : Create Tokens IDs**"
      ],
      "metadata": {
        "id": "RlbMVcB4cNtr"
      }
    },
    {
      "cell_type": "markdown",
      "source": [
        "- Create list of tokens and sort them alphabetically to determine the Vocabilary size"
      ],
      "metadata": {
        "id": "ISNvfRHRcXJ4"
      }
    },
    {
      "cell_type": "code",
      "source": [
        "all_words = sorted(set(preprocessed))\n",
        "print(all_words[:15])\n",
        "print(len(all_words))"
      ],
      "metadata": {
        "colab": {
          "base_uri": "https://localhost:8080/"
        },
        "id": "5H0pGtxfcw0G",
        "outputId": "3ec46f13-1309-4be8-da9a-2abac02c65a6"
      },
      "execution_count": 7,
      "outputs": [
        {
          "output_type": "stream",
          "name": "stdout",
          "text": [
            "['!', '\"', \"'\", '(', ')', ',', '--', '.', ':', ';', '?', 'A', 'Ah', 'Among', 'And']\n",
            "1130\n"
          ]
        }
      ]
    },
    {
      "cell_type": "markdown",
      "source": [
        "- Create the Vocabulary itself"
      ],
      "metadata": {
        "id": "wwPXO8AUcwT6"
      }
    },
    {
      "cell_type": "code",
      "source": [
        "vocab = {token : i for i, token in enumerate(all_words)}\n"
      ],
      "metadata": {
        "id": "uH5sOlmddWHf"
      },
      "execution_count": 8,
      "outputs": []
    },
    {
      "cell_type": "code",
      "source": [
        "for i, v in enumerate(vocab.items()):\n",
        "  if i > 25:\n",
        "    break\n",
        "  print(v)"
      ],
      "metadata": {
        "colab": {
          "base_uri": "https://localhost:8080/"
        },
        "id": "_ZdJ5ppO-zPp",
        "outputId": "f901bb24-6acd-4d02-fb6f-724b20237855"
      },
      "execution_count": 9,
      "outputs": [
        {
          "output_type": "stream",
          "name": "stdout",
          "text": [
            "('!', 0)\n",
            "('\"', 1)\n",
            "(\"'\", 2)\n",
            "('(', 3)\n",
            "(')', 4)\n",
            "(',', 5)\n",
            "('--', 6)\n",
            "('.', 7)\n",
            "(':', 8)\n",
            "(';', 9)\n",
            "('?', 10)\n",
            "('A', 11)\n",
            "('Ah', 12)\n",
            "('Among', 13)\n",
            "('And', 14)\n",
            "('Are', 15)\n",
            "('Arrt', 16)\n",
            "('As', 17)\n",
            "('At', 18)\n",
            "('Be', 19)\n",
            "('Begin', 20)\n",
            "('Burlington', 21)\n",
            "('But', 22)\n",
            "('By', 23)\n",
            "('Carlo', 24)\n",
            "('Chicago', 25)\n"
          ]
        }
      ]
    },
    {
      "cell_type": "markdown",
      "source": [
        "- Emplement Tokenizer class"
      ],
      "metadata": {
        "id": "rQRxRcGTBpBQ"
      }
    },
    {
      "cell_type": "code",
      "source": [
        "class SimpleTokenizer:\n",
        "  def __init__(self):\n",
        "    self.str_to_int = vocab\n",
        "    self.int_to_str = {id:t for t, id in vocab.items()}\n",
        "\n",
        "  def encoder(self, txt):\n",
        "    processed = re.split(r'([.,;?()!_:\\'\"]|--|\\s)', txt)\n",
        "\n",
        "    processed = [item.strip() for item in processed if item.strip()]\n",
        "\n",
        "    ids = [self.str_to_int[t] for t in processed]\n",
        "    return ids\n",
        "\n",
        "  def decoder(self, ids):\n",
        "    txt = \" \".join([self.int_to_str[id] for id in ids])\n",
        "    # Prevent the whitespace before the punctuation marks\n",
        "    txt = re.sub(r'\\s+([,.\"\\'?!()])', r'\\1', txt)\n",
        "    txt = re.sub(r'([\"\\'])\\s+(\\w+)', r'\\1\\2', txt)\n",
        "    return txt\n",
        "\n",
        "token = SimpleTokenizer()\n",
        "print(token.encoder('Ah! At \"Among\" !'))\n",
        "print(token.decoder(token.encoder('Ah! \\'At\\':\"Among \" !')))\n"
      ],
      "metadata": {
        "colab": {
          "base_uri": "https://localhost:8080/"
        },
        "id": "hNhwgzmHZnoW",
        "outputId": "3c8336ad-bb1d-4d32-f8dc-634b975b8220"
      },
      "execution_count": 10,
      "outputs": [
        {
          "output_type": "stream",
          "name": "stdout",
          "text": [
            "[12, 0, 18, 1, 13, 1, 0]\n",
            "Ah!'At' :\"Among\"!\n"
          ]
        }
      ]
    },
    {
      "cell_type": "markdown",
      "source": [
        "- To address words not in the vocabulary, the vocabulary needs to be extended."
      ],
      "metadata": {
        "id": "vgq8nmW2kbBp"
      }
    },
    {
      "cell_type": "markdown",
      "source": [
        "**Adding Special Context Tokens**"
      ],
      "metadata": {
        "id": "whP6AbgxlfkM"
      }
    },
    {
      "cell_type": "markdown",
      "source": [
        "- Modify the Tokenizer to handle unkonwn words (<|unk|> <|endoftext|>)"
      ],
      "metadata": {
        "id": "-cUA1q1XLC1s"
      }
    },
    {
      "cell_type": "code",
      "source": [
        "all_tokens = sorted(list(set(preprocessed)))\n",
        "all_tokens.extend(['<|unk|>', '<|endoftext|>'])\n",
        "\n",
        "vocab = {t:i for i, t in enumerate(all_tokens)}\n",
        "print(len(vocab.items()))"
      ],
      "metadata": {
        "colab": {
          "base_uri": "https://localhost:8080/"
        },
        "id": "mfif9CyiOBfp",
        "outputId": "e4b2824a-063a-4f91-963e-6f7ea09e457b"
      },
      "execution_count": 11,
      "outputs": [
        {
          "output_type": "stream",
          "name": "stdout",
          "text": [
            "1132\n"
          ]
        }
      ]
    },
    {
      "cell_type": "code",
      "source": [
        "for item in list(vocab.items())[-5:]:\n",
        "  print(item)"
      ],
      "metadata": {
        "colab": {
          "base_uri": "https://localhost:8080/"
        },
        "id": "dRQs7s3gOBdn",
        "outputId": "32ac94da-0605-4cef-8e84-12598f9be692"
      },
      "execution_count": 12,
      "outputs": [
        {
          "output_type": "stream",
          "name": "stdout",
          "text": [
            "('younger', 1127)\n",
            "('your', 1128)\n",
            "('yourself', 1129)\n",
            "('<|unk|>', 1130)\n",
            "('<|endoftext|>', 1131)\n"
          ]
        }
      ]
    },
    {
      "cell_type": "markdown",
      "source": [
        "- Implementing SimpleTokenizerV2"
      ],
      "metadata": {
        "id": "Db8y53hBQgct"
      }
    },
    {
      "cell_type": "code",
      "source": [
        "class SimpleTokenizerV2:\n",
        "  def __init__(self, vocab):\n",
        "    self.str_to_int = vocab\n",
        "    self.int_to_str = {i:t for t,i in vocab.items()}\n",
        "\n",
        "  def encoder(self, txt):\n",
        "    # Split Text into tokens\n",
        "    preprocessed = re.split(r'([.,;?()!_:\\'\"]|--|\\s)', txt)\n",
        "    # Clear the Tokens from whitespaces\n",
        "    preprocessed = [item.strip() for item in preprocessed if item.strip()]\n",
        "    # Identifiy the unknown words\n",
        "    preprocessed = [\n",
        "        item if item in self.str_to_int else '<|unk|>'\n",
        "        for item in preprocessed\n",
        "    ]\n",
        "    # Map the tokens with thier ids\n",
        "    ids = [self.str_to_int[s] for s in preprocessed]\n",
        "\n",
        "    return ids\n",
        "\n",
        "  def decoder(self, ids):\n",
        "    txt = \" \".join([self.int_to_str[i] for i in ids])\n",
        "    txt = re.sub(r'\\s+([,.;:!?()\"\\'])', r'\\1', txt)\n",
        "\n",
        "    return txt"
      ],
      "metadata": {
        "id": "R2-_ctXoQk1f"
      },
      "execution_count": 13,
      "outputs": []
    },
    {
      "cell_type": "code",
      "source": [
        "tokenizer = SimpleTokenizerV2(vocab)\n",
        "text1 = 'Salam! I love tea so much. What about you?'\n",
        "text2 = 'Yes! i love tea and coffee.'\n",
        "text = \" <|endoftext|> \".join((text1, text2))\n",
        "\n",
        "print(text)"
      ],
      "metadata": {
        "colab": {
          "base_uri": "https://localhost:8080/"
        },
        "id": "dBxgq9zfY32c",
        "outputId": "e3d68b8d-4f6d-487a-bddb-4e8f05d6c9a6"
      },
      "execution_count": 14,
      "outputs": [
        {
          "output_type": "stream",
          "name": "stdout",
          "text": [
            "Salam! I love tea so much. What about you? <|endoftext|> Yes! i love tea and coffee.\n"
          ]
        }
      ]
    },
    {
      "cell_type": "code",
      "source": [
        "print(tokenizer.encoder(text))\n",
        "print(tokenizer.decoder(tokenizer.encoder(text)))"
      ],
      "metadata": {
        "colab": {
          "base_uri": "https://localhost:8080/"
        },
        "id": "V7RDUq6NaThQ",
        "outputId": "53553653-1f4b-43fa-ee26-8af8b38955ad"
      },
      "execution_count": 15,
      "outputs": [
        {
          "output_type": "stream",
          "name": "stdout",
          "text": [
            "[1130, 0, 53, 1130, 975, 908, 691, 7, 109, 118, 1126, 10, 1131, 112, 0, 1130, 1130, 975, 157, 1130, 7]\n",
            "<|unk|>! I <|unk|> tea so much. What about you? <|endoftext|> Yes! <|unk|> <|unk|> tea and <|unk|>.\n"
          ]
        }
      ]
    },
    {
      "cell_type": "markdown",
      "source": [
        "- More Special tokens : [BOS] [EOS] [PAD]"
      ],
      "metadata": {
        "id": "8jbF_pBgdI4Q"
      }
    },
    {
      "cell_type": "markdown",
      "source": [
        "- For GPT models they doesnt use <|unk|> tokens. Instead they uses a tokenizer called **Byte Pair Encoding** which beaks words into subword units."
      ],
      "metadata": {
        "id": "sk08vKOBaQDj"
      }
    },
    {
      "cell_type": "markdown",
      "source": [
        "**Byte Pair Encoding**"
      ],
      "metadata": {
        "id": "GoH-SPckerCZ"
      }
    },
    {
      "cell_type": "markdown",
      "source": [
        "- Use pyhton open-source library '**tiktoken**' 'https://github.com/openai/tiktoken'"
      ],
      "metadata": {
        "id": "YovHjfoKgVtf"
      }
    },
    {
      "cell_type": "code",
      "source": [
        "#!pip3 install tiktoken"
      ],
      "metadata": {
        "id": "QGVgfQXEhcp_"
      },
      "execution_count": 16,
      "outputs": []
    },
    {
      "cell_type": "code",
      "source": [
        "# Import the tiktoken package and check its version\n",
        "import importlib\n",
        "import tiktoken\n",
        "\n",
        "print('Tiktoken version : ', importlib.metadata.version(\"tiktoken\"))"
      ],
      "metadata": {
        "colab": {
          "base_uri": "https://localhost:8080/"
        },
        "id": "xzBNqXi_iYTA",
        "outputId": "ea4f5006-5a73-4a53-af03-657199535538"
      },
      "execution_count": 17,
      "outputs": [
        {
          "output_type": "stream",
          "name": "stdout",
          "text": [
            "Tiktoken version :  0.12.0\n"
          ]
        }
      ]
    },
    {
      "cell_type": "code",
      "source": [
        "# Instantiate BPE tokenizer"
      ],
      "metadata": {
        "id": "kUaROrCDjDDX"
      },
      "execution_count": 18,
      "outputs": []
    },
    {
      "cell_type": "code",
      "source": [
        "tokenizer = tiktoken.get_encoding(\"gpt2\")"
      ],
      "metadata": {
        "id": "GnGPGTMwjKDl"
      },
      "execution_count": 19,
      "outputs": []
    },
    {
      "cell_type": "code",
      "source": [
        "text = (\"Hello! do you like tea? <|endoftext|> The sun rose quickly this morning.\"\n",
        "\"what do you thinkofme me?\")\n",
        "\n",
        "ids = tokenizer.encode(text, allowed_special={\"<|endoftext|>\"})\n",
        "print(ids)\n",
        "print(tokenizer.decode([1326, 502]))  # Should show \"me\""
      ],
      "metadata": {
        "colab": {
          "base_uri": "https://localhost:8080/"
        },
        "id": "A9b5DOhBjxq8",
        "outputId": "6058ae8f-26bf-48c2-ba3e-8dead1bb569b"
      },
      "execution_count": 20,
      "outputs": [
        {
          "output_type": "stream",
          "name": "stdout",
          "text": [
            "[15496, 0, 466, 345, 588, 8887, 30, 220, 50256, 383, 4252, 8278, 2952, 428, 3329, 13, 10919, 466, 345, 892, 1659, 1326, 502, 30]\n",
            "me me\n"
          ]
        }
      ]
    },
    {
      "cell_type": "code",
      "source": [
        "text = tokenizer.decode(ids)\n",
        "\n",
        "print(text)"
      ],
      "metadata": {
        "colab": {
          "base_uri": "https://localhost:8080/"
        },
        "id": "6TbaSFa2oXzq",
        "outputId": "e6a3742f-a8b6-4ac6-8a6a-54db850e73b1"
      },
      "execution_count": 21,
      "outputs": [
        {
          "output_type": "stream",
          "name": "stdout",
          "text": [
            "Hello! do you like tea? <|endoftext|> The sun rose quickly this morning.what do you thinkofme me?\n"
          ]
        }
      ]
    },
    {
      "cell_type": "markdown",
      "source": [
        "- More example to illustrate BPE tokenizer deals with unknown tokens"
      ],
      "metadata": {
        "id": "7Mmshtkrrs_M"
      }
    },
    {
      "cell_type": "code",
      "source": [
        "ids =  tokenizer.encode('Awki ingze')\n",
        "print(ids)\n",
        "\n",
        "txt = tokenizer.decode(ids)\n",
        "print(txt)"
      ],
      "metadata": {
        "colab": {
          "base_uri": "https://localhost:8080/"
        },
        "id": "ZAbKgI2Wr7aQ",
        "outputId": "2c19215e-f924-416d-96ed-e7d29b54dd3c"
      },
      "execution_count": 22,
      "outputs": [
        {
          "output_type": "stream",
          "name": "stdout",
          "text": [
            "[23155, 4106, 5347, 2736]\n",
            "Awki ingze\n"
          ]
        }
      ]
    },
    {
      "cell_type": "markdown",
      "source": [
        "**Creating Input-target pairs**"
      ],
      "metadata": {
        "id": "i15Im0ayeBsb"
      }
    },
    {
      "cell_type": "markdown",
      "source": [
        "*Implement a data loader that fetchs the input-target pairs using a sliding window approach*"
      ],
      "metadata": {
        "id": "XSnslwQXoyzD"
      }
    },
    {
      "cell_type": "markdown",
      "source": [
        "- Tokenize the whole dataset (The verdict) using BPE tokenizer"
      ],
      "metadata": {
        "id": "42riiMChp6P1"
      }
    },
    {
      "cell_type": "code",
      "source": [
        "enc_text = tokenizer.encode(raw_text)\n",
        "print(len(enc_text))\n",
        "print(len(raw_text))"
      ],
      "metadata": {
        "colab": {
          "base_uri": "https://localhost:8080/"
        },
        "id": "GAzJkAaCqISq",
        "outputId": "8ae088bf-8a50-4104-ea30-5dba83b78370"
      },
      "execution_count": 23,
      "outputs": [
        {
          "output_type": "stream",
          "name": "stdout",
          "text": [
            "5145\n",
            "20479\n"
          ]
        }
      ]
    },
    {
      "cell_type": "markdown",
      "source": [
        "- Define the context size (how many tokens in the input)\n",
        "\n"
      ],
      "metadata": {
        "id": "RnXKz4Dptcxl"
      }
    },
    {
      "cell_type": "code",
      "source": [
        "enc_example = enc_text[50:] # gives intresting result\n",
        "context_size = 4 # so the model will look at 4 sequences of words to predict the next word in the sequence!\n",
        "\n",
        "x = enc_example[:context_size]\n",
        "y = enc_example[1:context_size+1]\n",
        "# the target is just the input shifted by 1 (so we can capture the next-word that we need to predict)\n",
        "\n",
        "print(f'{x}')\n",
        "print(f'     {y}')"
      ],
      "metadata": {
        "colab": {
          "base_uri": "https://localhost:8080/"
        },
        "id": "gtQKFrEEqH76",
        "outputId": "55d0745f-1301-4bcf-cb4b-580819d09921"
      },
      "execution_count": 24,
      "outputs": [
        {
          "output_type": "stream",
          "name": "stdout",
          "text": [
            "[290, 4920, 2241, 287]\n",
            "     [4920, 2241, 287, 257]\n"
          ]
        }
      ]
    },
    {
      "cell_type": "markdown",
      "source": [
        "- Create the next-word prediction tasks"
      ],
      "metadata": {
        "id": "FKscwpSPvyrF"
      }
    },
    {
      "cell_type": "code",
      "source": [
        "for i in range(1, context_size+1):\n",
        "  context = enc_example[:i]\n",
        "  next_word = enc_example[i] # supposed to predict\n",
        "  print(f'{context}->{next_word}')"
      ],
      "metadata": {
        "colab": {
          "base_uri": "https://localhost:8080/"
        },
        "id": "y96jmBfcwT53",
        "outputId": "b9c90e79-d7f2-41d8-f635-00f81c3ddb57"
      },
      "execution_count": 25,
      "outputs": [
        {
          "output_type": "stream",
          "name": "stdout",
          "text": [
            "[290]->4920\n",
            "[290, 4920]->2241\n",
            "[290, 4920, 2241]->287\n",
            "[290, 4920, 2241, 287]->257\n"
          ]
        }
      ]
    },
    {
      "cell_type": "code",
      "source": [
        "for i in range(1, context_size+1):\n",
        "  context = enc_example[:i]\n",
        "  next_word = enc_example[i]\n",
        "  print(tokenizer.decode(context),'->',tokenizer.decode([next_word]))"
      ],
      "metadata": {
        "colab": {
          "base_uri": "https://localhost:8080/"
        },
        "id": "O4GvSq2Y11Js",
        "outputId": "e8b2fd7f-d931-468b-8028-54a63637c310"
      },
      "execution_count": 26,
      "outputs": [
        {
          "output_type": "stream",
          "name": "stdout",
          "text": [
            " and ->  established\n",
            " and established ->  himself\n",
            " and established himself ->  in\n",
            " and established himself in ->  a\n"
          ]
        }
      ]
    },
    {
      "cell_type": "markdown",
      "source": [
        "- Turning the inputs and targets as PyThorch tensors (required for the income optimazation procedures)"
      ],
      "metadata": {
        "id": "PlP9i1Hu3mON"
      }
    },
    {
      "cell_type": "markdown",
      "source": [
        "**Implementing a Data Loader**"
      ],
      "metadata": {
        "id": "Xbgd-xVi6DpV"
      }
    },
    {
      "cell_type": "markdown",
      "source": [
        "- The methodology is:\n",
        "\n",
        "\n",
        "1.   Firstly, tokenize the text\n",
        "2.   Using the sliding window to make two overlapping sequences of the text (lenght of each row is the context size)\n",
        "3.   List item\n",
        "4.   List item\n",
        "\n",
        "\n",
        "\n"
      ],
      "metadata": {
        "id": "Tw52QMqK9QJ6"
      }
    },
    {
      "cell_type": "code",
      "source": [
        "from torch.utils.data import DataLoader, Dataset\n",
        "import torch\n",
        "\n",
        "class GPTDataset(Dataset):\n",
        "  def __init__(self, txt, tokenizer, max_lenght, stride):\n",
        "     self.input_ids = []\n",
        "     self.target_ids = []\n",
        "\n",
        "     token_ids = tokenizer.encode(txt, allowed_special={'<|endoftext|>'})\n",
        "\n",
        "     for i in range(0, len(token_ids) - max_lenght, stride):\n",
        "        input_chunk = token_ids[i:i + max_lenght]\n",
        "        target_chunk = token_ids[i+1:i + max_lenght+1]\n",
        "        self.input_ids.append(torch.tensor(input_chunk))\n",
        "        self.target_ids.append(torch.tensor(target_chunk))\n",
        "\n",
        "  def __len__(self):\n",
        "     return len(self.input_ids)\n",
        "\n",
        "  # accessing item by [index]\n",
        "  def __getitem__(self, idx):\n",
        "     return self.input_ids[idx], self.target_ids[idx]"
      ],
      "metadata": {
        "id": "SGg4avQf-Cae"
      },
      "execution_count": 27,
      "outputs": []
    },
    {
      "cell_type": "markdown",
      "source": [
        "- Implement a function to generate input-target pairs for our Dataset"
      ],
      "metadata": {
        "id": "v-gjliNhCLPp"
      }
    },
    {
      "cell_type": "code",
      "source": [
        "def create_dataloader(txt, batch_size=4, max_lenght=256,\n",
        "                         stride=128, shuffle=False, drop_last=True,\n",
        "                         num_workers=0):\n",
        "  # Initiate the tokenizer\n",
        "  tokenizer = tiktoken.get_encoding(\"gpt2\")\n",
        "\n",
        "  # Create the Dataset\n",
        "  dataset = GPTDataset(txt, tokenizer, max_lenght, stride)\n",
        "\n",
        "  # Create the Dataloader\n",
        "  dataloader = DataLoader(dataset, batch_size=batch_size,\n",
        "                          shuffle=shuffle, drop_last=drop_last,\n",
        "                          num_workers=num_workers)\n",
        "\n",
        "  return dataloader"
      ],
      "metadata": {
        "id": "5mdaQxTb-COO"
      },
      "execution_count": 29,
      "outputs": []
    },
    {
      "cell_type": "markdown",
      "source": [
        "- Test the dataloader"
      ],
      "metadata": {
        "id": "p68BHJ64HyhO"
      }
    },
    {
      "cell_type": "code",
      "source": [
        "# Read the text\n",
        "with open('/content/drive/MyDrive/llm/the-verdict.txt', 'r', encoding='utf-8') as f:\n",
        "  raw_text = f.read()\n",
        "\n",
        "# Convert the Dataloader into iterator\n",
        "import torch\n",
        "print('PyTorch version : ', torch.__version__)\n",
        "\n",
        "dataloader = create_dataloader(raw_text, batch_size=1, max_lenght=4, stride=1)\n",
        "\n",
        "data_iter = iter(dataloader)\n",
        "first_batch = next(data_iter)\n",
        "print(first_batch)"
      ],
      "metadata": {
        "colab": {
          "base_uri": "https://localhost:8080/"
        },
        "id": "q2pJC_J_H5bM",
        "outputId": "57a4ee6a-6701-415d-be88-0370437a2398"
      },
      "execution_count": 40,
      "outputs": [
        {
          "output_type": "stream",
          "name": "stdout",
          "text": [
            "PyTorch version :  2.8.0+cu126\n",
            "[tensor([[  40,  367, 2885, 1464]]), tensor([[ 367, 2885, 1464, 1807]])]\n"
          ]
        }
      ]
    },
    {
      "cell_type": "code",
      "source": [
        "second_batch = next(data_iter)\n",
        "print(second_batch)"
      ],
      "metadata": {
        "colab": {
          "base_uri": "https://localhost:8080/"
        },
        "id": "6T-q8Ue1L7qk",
        "outputId": "bf548d74-9cb9-45dd-acf3-3309ef0f747b"
      },
      "execution_count": 41,
      "outputs": [
        {
          "output_type": "stream",
          "name": "stdout",
          "text": [
            "[tensor([[ 367, 2885, 1464, 1807]]), tensor([[2885, 1464, 1807, 3619]])]\n"
          ]
        }
      ]
    }
  ]
}